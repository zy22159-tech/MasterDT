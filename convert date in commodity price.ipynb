{
 "cells": [
  {
   "cell_type": "code",
   "execution_count": 4,
   "id": "68bc188e",
   "metadata": {},
   "outputs": [],
   "source": [
    "import pandas as pd\n",
    "import os\n",
    "import glob\n",
    "from pathlib import Path\n",
    "from datetime import datetime"
   ]
  },
  {
   "cell_type": "code",
   "execution_count": 5,
   "id": "8205f7fd",
   "metadata": {},
   "outputs": [],
   "source": [
    "p = Path(\"\\Documents\\Github\\MasterDT\\Data\\Commodity\")\n",
    "filelist=list(p.glob(\"**/*.csv\"))"
   ]
  },
  {
   "cell_type": "code",
   "execution_count": 6,
   "id": "741de782",
   "metadata": {},
   "outputs": [
    {
     "name": "stdout",
     "output_type": "stream",
     "text": [
      "           Date   Price    Open    High     Low Change %\n",
      "0    2022-06-21  1.2923  1.2985  1.2986  1.2906   -0.44%\n",
      "1    2022-06-20  1.2979  1.3031  1.3040  1.2977   -0.36%\n",
      "2    2022-06-17  1.3026  1.2952  1.3080  1.2938    0.59%\n",
      "3    2022-06-16  1.2949  1.2890  1.2972  1.2860    0.46%\n",
      "4    2022-06-15  1.2890  1.2954  1.2996  1.2862   -0.49%\n",
      "...         ...     ...     ...     ...     ...      ...\n",
      "8357 1990-05-29  1.1804  1.1804  1.1829  1.1779   -0.17%\n",
      "8358 1990-05-28  1.1824  1.1824  1.1852  1.1793   -0.04%\n",
      "8359 1990-05-25  1.1829  1.1829  1.1862  1.1820   -0.19%\n",
      "8360 1990-05-24  1.1852  1.1852  1.1865  1.1797    0.11%\n",
      "8361 1990-05-23  1.1839  1.1839  1.1883  1.1822   -0.39%\n",
      "\n",
      "[8362 rows x 6 columns]\n",
      "USD_CAD Historical Data.csv saved.\n",
      "           Date   Price    Open    High     Low Change %\n",
      "0    2022-06-21  6.6891  6.6925  6.7008  6.6756   -0.01%\n",
      "1    2022-06-20  6.6900  6.7092  6.7109  6.6715   -0.39%\n",
      "2    2022-06-17  6.7160  6.6979  6.7193  6.6915    0.19%\n",
      "3    2022-06-16  6.7030  6.6939  6.7190  6.6916   -0.15%\n",
      "4    2022-06-15  6.7128  6.7277  6.7283  6.7030   -0.40%\n",
      "...         ...     ...     ...     ...     ...      ...\n",
      "8302 1990-05-30  4.7339  4.7339  4.7339  4.7339    0.00%\n",
      "8303 1990-05-29  4.7339  4.7339  4.7339  4.7339    0.00%\n",
      "8304 1990-05-25  4.7339  4.7339  4.7339  4.7339    0.00%\n",
      "8305 1990-05-24  4.7339  4.7339  4.7339  4.7339    0.00%\n",
      "8306 1990-05-23  4.7339  4.7339  4.7339  4.7339    0.00%\n",
      "\n",
      "[8307 rows x 6 columns]\n",
      "USD_CNY Historical Data.csv saved.\n",
      "           Date   Price    Open    High     Low Change %\n",
      "0    2022-06-21  0.9464  0.9509  0.9512  0.9449   -0.50%\n",
      "1    2022-06-20  0.9512  0.9549  0.9549  0.9481   -0.11%\n",
      "2    2022-06-17  0.9522  0.9480  0.9574  0.9470    0.47%\n",
      "3    2022-06-16  0.9477  0.9574  0.9633  0.9432   -1.00%\n",
      "4    2022-06-15  0.9573  0.9600  0.9654  0.9516   -0.26%\n",
      "...         ...     ...     ...     ...     ...      ...\n",
      "8293 1990-05-30  0.7983  0.7983  0.7983  0.7983    0.31%\n",
      "8294 1990-05-29  0.7958  0.7958  0.7958  0.7958   -0.49%\n",
      "8295 1990-05-25  0.7997  0.7997  0.7997  0.7997    0.50%\n",
      "8296 1990-05-24  0.7957  0.7957  0.7957  0.7957   -0.01%\n",
      "8297 1990-05-23  0.7958  0.7958  0.7958  0.7958    0.05%\n",
      "\n",
      "[8298 rows x 6 columns]\n",
      "USD_EUR Historical Data.csv saved.\n",
      "           Date   Price   Open    High     Low Change %\n",
      "0    2022-06-21  54.253  54.06  54.408  54.040    0.28%\n",
      "1    2022-06-20  54.099  53.75  54.129  53.750    0.65%\n",
      "2    2022-06-17  53.750  53.48  53.810  53.415    0.52%\n",
      "3    2022-06-16  53.470  53.32  53.641  53.295    0.19%\n",
      "4    2022-06-15  53.370  53.25  53.470  53.210    0.19%\n",
      "...         ...     ...    ...     ...     ...      ...\n",
      "7833 1992-05-25  26.250  26.00  26.250  26.000    0.00%\n",
      "7834 1992-05-22  26.250  26.00  26.250  26.000    0.00%\n",
      "7835 1992-05-21  26.250  26.00  26.250  26.000    0.00%\n",
      "7836 1992-05-20  26.250  26.00  26.250  26.000    0.00%\n",
      "7837 1992-05-19  26.250  26.00  26.250  26.000    0.00%\n",
      "\n",
      "[7838 rows x 6 columns]\n",
      "USD_PHP Historical Data.csv saved.\n"
     ]
    }
   ],
   "source": [
    "dfs=[]\n",
    "for f in filelist:\n",
    "    df=pd.read_csv(f, sep=',')\n",
    "    df['Date']=df['Date'].astype(\"string\")\n",
    "    df['Date'] =  pd.to_datetime(df['Date'], format='%b %d, %Y')\n",
    "    df.style.format({\"Date\": lambda t: t.strftime(\"%m/%d/%Y\")})\n",
    "    df.to_csv(f.name,index=False)\n",
    "    print(df)\n",
    "    print(f'{f.name} saved.')"
   ]
  },
  {
   "cell_type": "code",
   "execution_count": null,
   "id": "678590b6",
   "metadata": {},
   "outputs": [],
   "source": []
  }
 ],
 "metadata": {
  "kernelspec": {
   "display_name": "Python 3 (ipykernel)",
   "language": "python",
   "name": "python3"
  },
  "language_info": {
   "codemirror_mode": {
    "name": "ipython",
    "version": 3
   },
   "file_extension": ".py",
   "mimetype": "text/x-python",
   "name": "python",
   "nbconvert_exporter": "python",
   "pygments_lexer": "ipython3",
   "version": "3.9.12"
  }
 },
 "nbformat": 4,
 "nbformat_minor": 5
}
