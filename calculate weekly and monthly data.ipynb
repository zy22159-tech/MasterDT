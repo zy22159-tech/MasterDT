{
 "cells": [
  {
   "cell_type": "code",
   "execution_count": 1,
   "id": "dbd1d813",
   "metadata": {},
   "outputs": [],
   "source": [
    "import pandas as pd\n",
    "import os\n",
    "import glob\n",
    "from pathlib import Path\n",
    "from datetime import datetime"
   ]
  },
  {
   "cell_type": "code",
   "execution_count": 2,
   "id": "602f2e99",
   "metadata": {},
   "outputs": [],
   "source": [
    "p = Path(\"\\Documents\\Github\\MasterDT\\Data\\Commodity\")\n",
    "filelist=list(p.glob(\"**/*.csv\"))"
   ]
  },
  {
   "cell_type": "code",
   "execution_count": 97,
   "id": "17dc9b9e",
   "metadata": {},
   "outputs": [],
   "source": [
    "dfs_M=[]\n",
    "for f in filelist:\n",
    "    df=pd.read_csv(f, sep=',')\n",
    "    df=df.drop(columns=['Open', 'High','Low','Vol.','Change %'])\n",
    "    df['Price']=pd.to_numeric(df['Price'])\n",
    "    df['month'] = pd.to_datetime(df['Date']).dt.month\n",
    "    df['year'] = pd.to_datetime(df['Date']).dt.year\n",
    "    df_M=df.groupby(['year','month'],as_index=False).mean()\n",
    "    dfs_M.append(df)"
   ]
  },
  {
   "cell_type": "code",
   "execution_count": 134,
   "id": "2bdc6b1e",
   "metadata": {},
   "outputs": [],
   "source": [
    "dfs_w=[]\n",
    "for f in filelist:\n",
    "    df=pd.read_csv(f, sep=',')\n",
    "    df=df.drop(columns=['Open', 'High','Low','Vol.','Change %'])\n",
    "    df['Price']=pd.to_numeric(df['Price'])\n",
    "    df['Date']=pd.to_datetime(df['Date'])\n",
    "    df['week'] = df['Date'].dt.strftime('%U')\n",
    "    df['year'] = pd.to_datetime(df['Date']).dt.year\n",
    "    df_M=df.groupby(['year','week'],as_index=False).mean()\n",
    "    dfs_w.append(df)"
   ]
  }
 ],
 "metadata": {
  "kernelspec": {
   "display_name": "Python 3",
   "language": "python",
   "name": "python3"
  },
  "language_info": {
   "codemirror_mode": {
    "name": "ipython",
    "version": 3
   },
   "file_extension": ".py",
   "mimetype": "text/x-python",
   "name": "python",
   "nbconvert_exporter": "python",
   "pygments_lexer": "ipython3",
   "version": "3.8.8"
  }
 },
 "nbformat": 4,
 "nbformat_minor": 5
}
