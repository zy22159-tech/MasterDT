{
 "cells": [
  {
   "cell_type": "code",
   "execution_count": 1,
   "id": "06069b2d",
   "metadata": {},
   "outputs": [],
   "source": [
    "import os\n",
    "import datetime\n",
    "import time\n",
    "\n",
    "import IPython\n",
    "import IPython.display\n",
    "import matplotlib as mpl\n",
    "import matplotlib.pyplot as plt\n",
    "import numpy as np\n",
    "import pandas as pd\n",
    "import seaborn as sns\n",
    "import tensorflow as tf\n",
    "\n",
    "from tensorflow.keras import Sequential\n",
    "from tensorflow.keras.layers import LSTM, Dense, Dropout, TimeDistributed, Conv1D, MaxPooling1D, Flatten, Bidirectional, Input, Flatten, Activation, Reshape, RepeatVector, Concatenate\n",
    "from tensorflow.keras.models import Model\n",
    "from tensorflow.keras.utils import plot_model\n",
    "from tensorflow.keras.callbacks import EarlyStopping, ReduceLROnPlateau, ModelCheckpoint\n"
   ]
  },
  {
   "cell_type": "markdown",
   "id": "63acc822",
   "metadata": {},
   "source": [
    "### Pre-process the dataset"
   ]
  },
  {
   "cell_type": "code",
   "execution_count": 2,
   "id": "741955e4",
   "metadata": {},
   "outputs": [],
   "source": [
    "df = pd.read_csv ('Data/weekly_features.csv')\n",
    "df = df.drop (columns = ['Unnamed: 0','USD_PHP Historical Data.csv'])\n",
    "dates = df.year*100+df.week\n",
    "df['Date'] = pd.to_datetime(dates.astype(str) + '0', format='%Y%W%w')\n",
    "df['Date'] = pd.to_datetime(df['Date'])\n",
    "df['Date'] = df['Date'].dt.strftime('%Y-%m-%d')\n",
    "mask = (df['Date'] >'1990-09-30') & (df['Date'] <= '2021-09-30')\n",
    "df= df.loc[mask]\n",
    "df = df.fillna(method='ffill')"
   ]
  },
  {
   "cell_type": "code",
   "execution_count": 3,
   "id": "609db218",
   "metadata": {},
   "outputs": [],
   "source": [
    "def convert_to_timestamp(x):\n",
    "    \"\"\"Convert date objects to integers\"\"\"\n",
    "    return time.mktime(x.to_datetime().timetuple())"
   ]
  },
  {
   "cell_type": "code",
   "execution_count": 4,
   "id": "c7546ac6",
   "metadata": {},
   "outputs": [],
   "source": [
    "# https://www.aiproblog.com/index.php/2018/08/21/4-common-machine-learning-data-transforms-for-time-series-forecasting/\n",
    "# difference dataset\n",
    "diff_df=df.drop(columns=['Date', 'year', 'week'])\n",
    "diff_df = diff_df.diff()\n",
    "diff_df = diff_df.iloc[1:]\n",
    "#diff_df['year']=df.year[1:]\n",
    "#diff_df['week']=df.year[1:]\n",
    "diff_df['Date']=df.Date[1:]\n",
    "diff_df['Date'] = pd.to_datetime(diff_df['Date'])\n",
    "# convert date to timestamp\n",
    "diff_df['Date'] = diff_df['Date'].map(pd.Timestamp.timestamp)"
   ]
  },
  {
   "cell_type": "code",
   "execution_count": 5,
   "id": "da0d1d7c",
   "metadata": {},
   "outputs": [],
   "source": [
    "#split the data into training and testing dataset\n",
    "column_indices = {name: i for i, name in enumerate(diff_df.columns)}\n",
    "\n",
    "n = len(diff_df)\n",
    "train_df = diff_df[0:int(n*0.7)]\n",
    "test_df = diff_df[int(n*0.9):]\n",
    "\n",
    "num_features = diff_df.shape[1]"
   ]
  },
  {
   "cell_type": "code",
   "execution_count": 6,
   "id": "ae4f4d20",
   "metadata": {},
   "outputs": [],
   "source": [
    "#Normalize the data\n",
    "from sklearn.preprocessing import MinMaxScaler\n",
    "#col_list = [i for i in diff_df.columns if i != 'Date']\n",
    "scaler = MinMaxScaler()\n",
    "scaled_train = scaler.fit_transform(train_df)\n",
    "scaled_test = scaler.transform(test_df)"
   ]
  },
  {
   "cell_type": "markdown",
   "id": "4ba42622",
   "metadata": {},
   "source": [
    "#### Turn the numpy array to dataframe"
   ]
  },
  {
   "cell_type": "code",
   "execution_count": 7,
   "id": "73557cc9",
   "metadata": {},
   "outputs": [],
   "source": [
    "train_df = pd.DataFrame(data = scaled_train, columns = ['tmax','tmin','prcp','Crude Oil WTI', 'Gold','Oats','Corn','Soybeans','Wheat','USD_CAD','USD_CNY','USD_EUR','USD_MXN','SWE','SNOW','SNWD','Date'])\n",
    "#val_df = pd.DataFrame(data = scaled_val, columns = ['tmax','tmin','prcp','Crude Oil WTI', 'Gold','Oats','Corn','Soybeans','Wheat','USD_CAD','USD_CNY','USD_EUR','USD_MXN','SWE','SNOW','SNWD','Date'])\n",
    "test_df = pd.DataFrame(data = scaled_test, columns = ['tmax','tmin','prcp','Crude Oil WTI', 'Gold','Oats','Corn','Soybeans','Wheat','USD_CAD','USD_CNY','USD_EUR','USD_MXN','SWE','SNOW','SNWD','Date'])"
   ]
  },
  {
   "cell_type": "markdown",
   "id": "22c60d0d",
   "metadata": {},
   "source": [
    "### Generate the acceptable dataset"
   ]
  },
  {
   "cell_type": "code",
   "execution_count": 31,
   "id": "d37528d9",
   "metadata": {},
   "outputs": [],
   "source": [
    "def split_sequence(sequence, look_back, forecast_horizon):\n",
    " X, y = list(), list()\n",
    " for i in range(len(sequence)): \n",
    "   lag_end = i + look_back\n",
    "   forecast_end = lag_end + forecast_horizon\n",
    "   if forecast_end > len(sequence):\n",
    "     break\n",
    "   seq_x, seq_y = sequence[i:lag_end,], sequence[lag_end:forecast_end, 8]\n",
    "   X.append(seq_x)\n",
    "   y.append(seq_y)\n",
    " return np.array(X), np.array(y)"
   ]
  },
  {
   "cell_type": "code",
   "execution_count": 33,
   "id": "c7e68c59",
   "metadata": {},
   "outputs": [
    {
     "name": "stdout",
     "output_type": "stream",
     "text": [
      "(1102, 24, 17)\n",
      "(1102, 24)\n",
      "(118, 24, 17)\n",
      "(118, 24)\n"
     ]
    }
   ],
   "source": [
    "# Take into consideration last 6 hours, and perform forecasting for next 1 hour\n",
    "LOOK_BACK = 24\n",
    "FORECAST_RANGE = 24\n",
    "n_features = len(diff_df.columns)\n",
    "X_train, y_train = split_sequence(scaled_train, look_back=LOOK_BACK, forecast_horizon=FORECAST_RANGE)\n",
    "X_test, y_test = split_sequence(scaled_test, look_back=LOOK_BACK, forecast_horizon=FORECAST_RANGE)\n",
    "print(X_train.shape)\n",
    "print(y_train.shape)\n",
    "print(X_test.shape)\n",
    "print(y_test.shape)"
   ]
  },
  {
   "cell_type": "code",
   "execution_count": 81,
   "id": "e40dc3e7",
   "metadata": {},
   "outputs": [],
   "source": [
    "def multivariate_data(dataset, target, start_index, end_index, history_size,\n",
    "                      target_size, step, single_step=False):\n",
    "    data = []\n",
    "    labels = []\n",
    "\n",
    "    start_index = start_index + history_size\n",
    "    if end_index is None:\n",
    "        end_index = len(dataset) - target_size\n",
    "\n",
    "    for i in range(start_index, end_index):\n",
    "        indices = range(i-history_size, i, step)\n",
    "        data.append(dataset[indices])\n",
    "\n",
    "        if single_step:\n",
    "            labels.append(target[i+target_size])\n",
    "        else:\n",
    "            labels.append(target[i:i+target_size])\n",
    "\n",
    "    return np.array(data), np.array(labels)"
   ]
  },
  {
   "cell_type": "code",
   "execution_count": 82,
   "id": "ebf0da0a",
   "metadata": {},
   "outputs": [],
   "source": [
    "past_history = 24\n",
    "future_target = 24\n",
    "STEP = 1\n",
    "\n",
    "\n",
    "x_train, y_train = multivariate_data(scaled_train, scaled_train[:, 8], 0,\n",
    "                                                   None, past_history,\n",
    "                                                   future_target, STEP,\n",
    "                                                   single_step=False)"
   ]
  },
  {
   "cell_type": "code",
   "execution_count": 83,
   "id": "6b8cfdb0",
   "metadata": {},
   "outputs": [
    {
     "data": {
      "text/plain": [
       "(1101, 24, 17)"
      ]
     },
     "execution_count": 83,
     "metadata": {},
     "output_type": "execute_result"
    }
   ],
   "source": [
    "x_train.shape"
   ]
  },
  {
   "cell_type": "code",
   "execution_count": 86,
   "id": "0f92b119",
   "metadata": {},
   "outputs": [],
   "source": [
    "train = tf.data.Dataset.from_tensor_slices((x_train, y_train))\n",
    "train = train.cache().batch(32).repeat()\n",
    "\n",
    "#val_data_multi = tf.data.Dataset.from_tensor_slices((x_val_multi, y_val_multi))\n",
    "#val_data_multi = val_data_multi.batch(BATCH_SIZE).repeat()\n"
   ]
  },
  {
   "cell_type": "markdown",
   "id": "e9060e3a",
   "metadata": {},
   "source": [
    "### Evaluation metrics"
   ]
  },
  {
   "cell_type": "code",
   "execution_count": 17,
   "id": "e82da1b9",
   "metadata": {},
   "outputs": [],
   "source": [
    "def evaluate_forecast(y_test_inverse, yhat_inverse):\n",
    "    mse_ = tf.keras.losses.MeanSquaredError()\n",
    "    mae_ = tf.keras.losses.MeanAbsoluteError()\n",
    "    mape_ = tf.keras.losses.MeanAbsolutePercentageError()\n",
    "    rmse_ = tf.keras.metrics.RootMeanSquaredError()\n",
    "    mae = mae_(y_test_inverse,yhat_inverse)\n",
    "    print('mae:', mae)\n",
    "    mse = mse_(y_test_inverse,yhat_inverse)\n",
    "    print('mse:', mse)\n",
    "    mape = mape_(y_test_inverse,yhat_inverse)\n",
    "    print('mape:', mape)\n",
    "    rmse = rmse_(y_test_inverse,yhat_inverse)\n",
    "    print('rmse:', rmse)"
   ]
  },
  {
   "cell_type": "code",
   "execution_count": null,
   "id": "ff03e442",
   "metadata": {},
   "outputs": [],
   "source": []
  },
  {
   "cell_type": "code",
   "execution_count": null,
   "id": "ec53949b",
   "metadata": {},
   "outputs": [],
   "source": []
  },
  {
   "cell_type": "code",
   "execution_count": null,
   "id": "39c81469",
   "metadata": {},
   "outputs": [],
   "source": [
    "early_stopping = EarlyStopping(monitor='val_loss', patience = 3, restore_best_weights=True)\n",
    "multi_step_history = model_enc_dec_cnn.fit(train_data_multi,\n",
    "                                          epochs=EPOCHS,\n",
    "                                          steps_per_epoch=EVALUATION_INTERVAL,\n",
    "                                          validation_data=val_data_multi,\n",
    "                                          validation_steps=EVALUATION_INTERVAL,\n",
    "                                          callbacks=[early_stopping])"
   ]
  },
  {
   "cell_type": "markdown",
   "id": "be9a0fbf",
   "metadata": {},
   "source": [
    "### Inverse normalization"
   ]
  },
  {
   "cell_type": "code",
   "execution_count": 18,
   "id": "6b118ab3",
   "metadata": {},
   "outputs": [],
   "source": [
    "def inverse_transform(y_test, yhat):\n",
    "    y_test_reshaped = y_test.reshape(-1, y_test.shape[-1])\n",
    "    yhat_reshaped = yhat.reshape(-1, yhat.shape[-1])\n",
    "    yhat_inverse = scaler.inverse_transform(yhat_reshaped)\n",
    "    y_test_inverse = scaler.inverse_transform(y_test_reshaped)\n",
    "    return yhat_inverse, y_test_inverse"
   ]
  },
  {
   "cell_type": "code",
   "execution_count": 51,
   "id": "41341bfd",
   "metadata": {},
   "outputs": [],
   "source": [
    "### Baseline\n",
    "def Baseline(self, inputs):\n",
    "    return tf.tile(inputs[:, -1:, :], [1, OUT_STEPS, 1])\n"
   ]
  },
  {
   "cell_type": "code",
   "execution_count": 19,
   "id": "139a909f",
   "metadata": {},
   "outputs": [],
   "source": [
    "#checkpoint_filepath = 'path_to_checkpoint_filepath'\n",
    "#checkpoint_callback = ModelCheckpoint(\n",
    " #filepath=checkpoint_filepath,\n",
    " #save_weights_only=False,\n",
    " #monitor='val_loss',\n",
    " #mode='min',\n",
    " #save_best_only=True)\n",
    "early_stopping_callback = EarlyStopping(\n",
    " monitor=\"val_loss\",\n",
    " min_delta=0.005,\n",
    " patience=10,\n",
    " mode=\"min\"\n",
    ")\n",
    "rlrop_callback = ReduceLROnPlateau(monitor='val_loss', factor=0.2, mode='min', patience=3, min_lr=0.001)"
   ]
  },
  {
   "cell_type": "code",
   "execution_count": 20,
   "id": "15bb2a28",
   "metadata": {},
   "outputs": [],
   "source": [
    "from tensorflow.keras import Sequential\n",
    "from tensorflow.keras.layers import LSTM, Dense, Dropout, TimeDistributed, Conv1D, MaxPooling1D, Flatten, Bidirectional, Input, Flatten, Activation, Reshape, RepeatVector, Concatenate\n",
    "from tensorflow.keras.models import Model\n",
    "from tensorflow.keras.utils import plot_model\n",
    "from tensorflow.keras.callbacks import EarlyStopping, ReduceLROnPlateau, ModelCheckpoint"
   ]
  },
  {
   "cell_type": "code",
   "execution_count": 21,
   "id": "9d9327ac",
   "metadata": {},
   "outputs": [],
   "source": [
    "epochs = 20\n",
    "batch_size = 32\n",
    "validation = 0.1"
   ]
  },
  {
   "cell_type": "code",
   "execution_count": 27,
   "id": "a973e7aa",
   "metadata": {},
   "outputs": [],
   "source": [
    "model_enc_dec_cnn = Sequential()\n",
    "model_enc_dec_cnn.add(Conv1D(filters=64, kernel_size=9, activation='relu', input_shape=(LOOK_BACK, n_features)))\n",
    "model_enc_dec_cnn.add(Conv1D(filters=64, kernel_size=11, activation='relu'))\n",
    "model_enc_dec_cnn.add(MaxPooling1D(pool_size=2))\n",
    "model_enc_dec_cnn.add(Flatten())\n",
    "model_enc_dec_cnn.add(RepeatVector(FORECAST_RANGE))\n",
    "model_enc_dec_cnn.add(LSTM(200, activation='relu', return_sequences=True))\n",
    "model_enc_dec_cnn.add(TimeDistributed(Dense(100, activation='relu')))\n",
    "model_enc_dec_cnn.add(TimeDistributed(Dense(n_features)))\n",
    "model_enc_dec_cnn.compile(loss='mse', optimizer='adam')"
   ]
  },
  {
   "cell_type": "code",
   "execution_count": 28,
   "id": "9284a90f",
   "metadata": {},
   "outputs": [
    {
     "name": "stdout",
     "output_type": "stream",
     "text": [
      "Epoch 1/20\n"
     ]
    },
    {
     "ename": "ValueError",
     "evalue": "in user code:\n\n    File \"C:\\Users\\wangz\\Anaconda3\\lib\\site-packages\\keras\\engine\\training.py\", line 1051, in train_function  *\n        return step_function(self, iterator)\n    File \"C:\\Users\\wangz\\Anaconda3\\lib\\site-packages\\keras\\engine\\training.py\", line 1040, in step_function  **\n        outputs = model.distribute_strategy.run(run_step, args=(data,))\n    File \"C:\\Users\\wangz\\Anaconda3\\lib\\site-packages\\keras\\engine\\training.py\", line 1030, in run_step  **\n        outputs = model.train_step(data)\n    File \"C:\\Users\\wangz\\Anaconda3\\lib\\site-packages\\keras\\engine\\training.py\", line 890, in train_step\n        loss = self.compute_loss(x, y, y_pred, sample_weight)\n    File \"C:\\Users\\wangz\\Anaconda3\\lib\\site-packages\\keras\\engine\\training.py\", line 948, in compute_loss\n        return self.compiled_loss(\n    File \"C:\\Users\\wangz\\Anaconda3\\lib\\site-packages\\keras\\engine\\compile_utils.py\", line 201, in __call__\n        loss_value = loss_obj(y_t, y_p, sample_weight=sw)\n    File \"C:\\Users\\wangz\\Anaconda3\\lib\\site-packages\\keras\\losses.py\", line 139, in __call__\n        losses = call_fn(y_true, y_pred)\n    File \"C:\\Users\\wangz\\Anaconda3\\lib\\site-packages\\keras\\losses.py\", line 243, in call  **\n        return ag_fn(y_true, y_pred, **self._fn_kwargs)\n    File \"C:\\Users\\wangz\\Anaconda3\\lib\\site-packages\\keras\\losses.py\", line 1327, in mean_squared_error\n        return backend.mean(tf.math.squared_difference(y_pred, y_true), axis=-1)\n\n    ValueError: Dimensions must be equal, but are 17 and 24 for '{{node mean_squared_error/SquaredDifference}} = SquaredDifference[T=DT_FLOAT](sequential_1/time_distributed_3/Reshape_1, IteratorGetNext:1)' with input shapes: [?,24,17], [?,24].\n",
     "output_type": "error",
     "traceback": [
      "\u001b[1;31m---------------------------------------------------------------------------\u001b[0m",
      "\u001b[1;31mValueError\u001b[0m                                Traceback (most recent call last)",
      "Input \u001b[1;32mIn [28]\u001b[0m, in \u001b[0;36m<cell line: 2>\u001b[1;34m()\u001b[0m\n\u001b[0;32m      1\u001b[0m \u001b[38;5;66;03m#plot_model(model=model_enc_dec_cnn, show_shapes=True)\u001b[39;00m\n\u001b[1;32m----> 2\u001b[0m history \u001b[38;5;241m=\u001b[39m \u001b[43mmodel_enc_dec_cnn\u001b[49m\u001b[38;5;241;43m.\u001b[39;49m\u001b[43mfit\u001b[49m\u001b[43m(\u001b[49m\u001b[43mX_train\u001b[49m\u001b[43m,\u001b[49m\u001b[43m \u001b[49m\u001b[43my_train\u001b[49m\u001b[43m,\u001b[49m\u001b[43m \u001b[49m\u001b[43mepochs\u001b[49m\u001b[38;5;241;43m=\u001b[39;49m\u001b[43mepochs\u001b[49m\u001b[43m,\u001b[49m\u001b[43m \u001b[49m\u001b[43mbatch_size\u001b[49m\u001b[38;5;241;43m=\u001b[39;49m\u001b[43mbatch_size\u001b[49m\u001b[43m,\u001b[49m\u001b[43m \u001b[49m\u001b[43mvalidation_split\u001b[49m\u001b[38;5;241;43m=\u001b[39;49m\u001b[43mvalidation\u001b[49m\u001b[43m,\u001b[49m\u001b[43mcallbacks\u001b[49m\u001b[38;5;241;43m=\u001b[39;49m\u001b[43m[\u001b[49m\u001b[43mearly_stopping_callback\u001b[49m\u001b[43m,\u001b[49m\u001b[43m \u001b[49m\u001b[43mrlrop_callback\u001b[49m\u001b[43m]\u001b[49m\u001b[43m)\u001b[49m\n\u001b[0;32m      3\u001b[0m yhat \u001b[38;5;241m=\u001b[39m model_enc_dec_cnn\u001b[38;5;241m.\u001b[39mpredict(X_test, verbose\u001b[38;5;241m=\u001b[39m\u001b[38;5;241m0\u001b[39m)\n\u001b[0;32m      4\u001b[0m yhat_inverse, y_test_inverse \u001b[38;5;241m=\u001b[39m inverse_transform(y_test, yhat)\n",
      "File \u001b[1;32m~\\Anaconda3\\lib\\site-packages\\keras\\utils\\traceback_utils.py:67\u001b[0m, in \u001b[0;36mfilter_traceback.<locals>.error_handler\u001b[1;34m(*args, **kwargs)\u001b[0m\n\u001b[0;32m     65\u001b[0m \u001b[38;5;28;01mexcept\u001b[39;00m \u001b[38;5;167;01mException\u001b[39;00m \u001b[38;5;28;01mas\u001b[39;00m e:  \u001b[38;5;66;03m# pylint: disable=broad-except\u001b[39;00m\n\u001b[0;32m     66\u001b[0m   filtered_tb \u001b[38;5;241m=\u001b[39m _process_traceback_frames(e\u001b[38;5;241m.\u001b[39m__traceback__)\n\u001b[1;32m---> 67\u001b[0m   \u001b[38;5;28;01mraise\u001b[39;00m e\u001b[38;5;241m.\u001b[39mwith_traceback(filtered_tb) \u001b[38;5;28;01mfrom\u001b[39;00m \u001b[38;5;28mNone\u001b[39m\n\u001b[0;32m     68\u001b[0m \u001b[38;5;28;01mfinally\u001b[39;00m:\n\u001b[0;32m     69\u001b[0m   \u001b[38;5;28;01mdel\u001b[39;00m filtered_tb\n",
      "File \u001b[1;32m~\\AppData\\Local\\Temp\\__autograph_generated_filec7xo1a1z.py:15\u001b[0m, in \u001b[0;36mouter_factory.<locals>.inner_factory.<locals>.tf__train_function\u001b[1;34m(iterator)\u001b[0m\n\u001b[0;32m     13\u001b[0m \u001b[38;5;28;01mtry\u001b[39;00m:\n\u001b[0;32m     14\u001b[0m     do_return \u001b[38;5;241m=\u001b[39m \u001b[38;5;28;01mTrue\u001b[39;00m\n\u001b[1;32m---> 15\u001b[0m     retval_ \u001b[38;5;241m=\u001b[39m ag__\u001b[38;5;241m.\u001b[39mconverted_call(ag__\u001b[38;5;241m.\u001b[39mld(step_function), (ag__\u001b[38;5;241m.\u001b[39mld(\u001b[38;5;28mself\u001b[39m), ag__\u001b[38;5;241m.\u001b[39mld(iterator)), \u001b[38;5;28;01mNone\u001b[39;00m, fscope)\n\u001b[0;32m     16\u001b[0m \u001b[38;5;28;01mexcept\u001b[39;00m:\n\u001b[0;32m     17\u001b[0m     do_return \u001b[38;5;241m=\u001b[39m \u001b[38;5;28;01mFalse\u001b[39;00m\n",
      "\u001b[1;31mValueError\u001b[0m: in user code:\n\n    File \"C:\\Users\\wangz\\Anaconda3\\lib\\site-packages\\keras\\engine\\training.py\", line 1051, in train_function  *\n        return step_function(self, iterator)\n    File \"C:\\Users\\wangz\\Anaconda3\\lib\\site-packages\\keras\\engine\\training.py\", line 1040, in step_function  **\n        outputs = model.distribute_strategy.run(run_step, args=(data,))\n    File \"C:\\Users\\wangz\\Anaconda3\\lib\\site-packages\\keras\\engine\\training.py\", line 1030, in run_step  **\n        outputs = model.train_step(data)\n    File \"C:\\Users\\wangz\\Anaconda3\\lib\\site-packages\\keras\\engine\\training.py\", line 890, in train_step\n        loss = self.compute_loss(x, y, y_pred, sample_weight)\n    File \"C:\\Users\\wangz\\Anaconda3\\lib\\site-packages\\keras\\engine\\training.py\", line 948, in compute_loss\n        return self.compiled_loss(\n    File \"C:\\Users\\wangz\\Anaconda3\\lib\\site-packages\\keras\\engine\\compile_utils.py\", line 201, in __call__\n        loss_value = loss_obj(y_t, y_p, sample_weight=sw)\n    File \"C:\\Users\\wangz\\Anaconda3\\lib\\site-packages\\keras\\losses.py\", line 139, in __call__\n        losses = call_fn(y_true, y_pred)\n    File \"C:\\Users\\wangz\\Anaconda3\\lib\\site-packages\\keras\\losses.py\", line 243, in call  **\n        return ag_fn(y_true, y_pred, **self._fn_kwargs)\n    File \"C:\\Users\\wangz\\Anaconda3\\lib\\site-packages\\keras\\losses.py\", line 1327, in mean_squared_error\n        return backend.mean(tf.math.squared_difference(y_pred, y_true), axis=-1)\n\n    ValueError: Dimensions must be equal, but are 17 and 24 for '{{node mean_squared_error/SquaredDifference}} = SquaredDifference[T=DT_FLOAT](sequential_1/time_distributed_3/Reshape_1, IteratorGetNext:1)' with input shapes: [?,24,17], [?,24].\n"
     ]
    }
   ],
   "source": [
    "#plot_model(model=model_enc_dec_cnn, show_shapes=True)\n",
    "history = model_enc_dec_cnn.fit(X_train, y_train, epochs=epochs, batch_size=batch_size, validation_split=validation,callbacks=[early_stopping_callback, rlrop_callback])\n",
    "yhat = model_enc_dec_cnn.predict(X_test, verbose=0)\n",
    "yhat_inverse, y_test_inverse = inverse_transform(y_test, yhat)\n",
    "evaluate_forecast(y_test_inverse, yhat_inverse)\n",
    "#IPython.display.clear_output()"
   ]
  },
  {
   "cell_type": "code",
   "execution_count": 140,
   "id": "0b35ef10",
   "metadata": {},
   "outputs": [
    {
     "name": "stdout",
     "output_type": "stream",
     "text": [
      "mae: tf.Tensor(0.077327356, shape=(), dtype=float32)\n",
      "mse: tf.Tensor(0.01205177, shape=(), dtype=float32)\n",
      "mape: tf.Tensor(65827.89, shape=(), dtype=float32)\n",
      "rmse: tf.Tensor(0.10978056, shape=(), dtype=float32)\n"
     ]
    }
   ],
   "source": [
    "evaluate_forecast(y_test, yhat)"
   ]
  },
  {
   "cell_type": "code",
   "execution_count": 156,
   "id": "e8b48105",
   "metadata": {},
   "outputs": [
    {
     "data": {
      "text/plain": [
       "(446, 24, 17)"
      ]
     },
     "execution_count": 156,
     "metadata": {},
     "output_type": "execute_result"
    }
   ],
   "source": [
    "y_test.shape"
   ]
  },
  {
   "cell_type": "code",
   "execution_count": 70,
   "id": "4d22aaad",
   "metadata": {},
   "outputs": [
    {
     "name": "stdout",
     "output_type": "stream",
     "text": [
      "-> 0\n"
     ]
    },
    {
     "ename": "NameError",
     "evalue": "name 'mae_' is not defined",
     "output_type": "error",
     "traceback": [
      "\u001b[1;31m---------------------------------------------------------------------------\u001b[0m",
      "\u001b[1;31mNameError\u001b[0m                                 Traceback (most recent call last)",
      "Input \u001b[1;32mIn [70]\u001b[0m, in \u001b[0;36m<cell line: 1>\u001b[1;34m()\u001b[0m\n\u001b[0;32m      1\u001b[0m \u001b[38;5;28;01mfor\u001b[39;00m i \u001b[38;5;129;01min\u001b[39;00m \u001b[38;5;28mrange\u001b[39m(\u001b[38;5;241m0\u001b[39m, n_features):\n\u001b[0;32m      2\u001b[0m  \u001b[38;5;28mprint\u001b[39m(\u001b[38;5;124m'\u001b[39m\u001b[38;5;124m->\u001b[39m\u001b[38;5;124m'\u001b[39m, i)\n\u001b[1;32m----> 3\u001b[0m  mae \u001b[38;5;241m=\u001b[39m \u001b[43mmae_\u001b[49m(y_test_inverse[:,i],yhat_inverse[:,i])\n\u001b[0;32m      4\u001b[0m  \u001b[38;5;28mprint\u001b[39m(\u001b[38;5;124m'\u001b[39m\u001b[38;5;124mmae:\u001b[39m\u001b[38;5;124m'\u001b[39m, mae)\n\u001b[0;32m      5\u001b[0m  mse \u001b[38;5;241m=\u001b[39m mse_(y_test_inverse[:,i],yhat_inverse[:,i])\n",
      "\u001b[1;31mNameError\u001b[0m: name 'mae_' is not defined"
     ]
    }
   ],
   "source": [
    "for i in range(0, n_features):\n",
    " print('->', i)\n",
    " mae = mae_(y_test_inverse[:,i],yhat_inverse[:,i])\n",
    " print('mae:', mae)\n",
    " mse = mse_(y_test_inverse[:,i],yhat_inverse[:,i])\n",
    " print('mse:', mse)\n",
    " mape = mape_(y_test_inverse[:,i],yhat_inverse[:,i])\n",
    " print('mape:', mape)"
   ]
  }
 ],
 "metadata": {
  "kernelspec": {
   "display_name": "Python 3 (ipykernel)",
   "language": "python",
   "name": "python3"
  },
  "language_info": {
   "codemirror_mode": {
    "name": "ipython",
    "version": 3
   },
   "file_extension": ".py",
   "mimetype": "text/x-python",
   "name": "python",
   "nbconvert_exporter": "python",
   "pygments_lexer": "ipython3",
   "version": "3.9.12"
  }
 },
 "nbformat": 4,
 "nbformat_minor": 5
}
