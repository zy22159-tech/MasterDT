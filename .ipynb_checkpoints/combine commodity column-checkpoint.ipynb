{
 "cells": [
  {
   "cell_type": "code",
   "execution_count": 1,
   "id": "ce676902",
   "metadata": {},
   "outputs": [],
   "source": [
    "import pandas as pd\n",
    "import os\n",
    "import glob\n",
    "from pathlib import Path\n",
    "from datetime import datetime"
   ]
  },
  {
   "cell_type": "code",
   "execution_count": 2,
   "id": "0354c6d3",
   "metadata": {},
   "outputs": [],
   "source": [
    "p = Path(\"\\Documents\\Github\\MasterDT\\Data\\Commodity\")\n",
    "filelist=list(p.glob(\"**/*.csv\"))"
   ]
  },
  {
   "cell_type": "code",
   "execution_count": 42,
   "id": "121cc171",
   "metadata": {},
   "outputs": [],
   "source": [
    "dfs_d=[]\n",
    "for f in filelist:\n",
    "    df=pd.read_csv(f, sep=',')\n",
    "    df['Date'] =  pd.to_datetime(df['Date'])\n",
    "    mask = (df['Date'] >'1990-09-01') & (df['Date'] <= '2022-05-01')\n",
    "    df = df[['Date', 'Price']]\n",
    "    df = df.loc[mask]\n",
    "    df.rename(columns = {'Price':f.name}, inplace = True)\n",
    "    dfs_d.append(df)"
   ]
  },
  {
   "cell_type": "code",
   "execution_count": 43,
   "id": "2d9d2847",
   "metadata": {},
   "outputs": [
    {
     "data": {
      "text/plain": [
       "[           Date  Crude Oil WTI Futures Historical Data.csv\n",
       " 10   2022-03-06                                     118.87\n",
       " 11   2022-02-06                                     116.87\n",
       " 12   2022-01-06                                     115.26\n",
       " 33   2022-04-05                                     106.22\n",
       " 34   2022-03-05                                     100.90\n",
       " ...         ...                                        ...\n",
       " 8124 1990-11-07                                      17.47\n",
       " 8125 1990-10-07                                      16.94\n",
       " 8126 1990-09-07                                      16.58\n",
       " 8144 1990-12-06                                      17.51\n",
       " 8145 1990-11-06                                      16.82\n",
       " \n",
       " [8023 rows x 2 columns],\n",
       "            Date  Gold Futures Historical Data.csv\n",
       " 10   2022-03-06                            1850.2\n",
       " 11   2022-02-06                            1871.4\n",
       " 12   2022-01-06                            1848.7\n",
       " 33   2022-04-05                            1876.2\n",
       " 34   2022-03-05                            1877.8\n",
       " ...         ...                               ...\n",
       " 8139 1990-11-07                             354.1\n",
       " 8140 1990-10-07                             355.5\n",
       " 8141 1990-09-07                             358.2\n",
       " 8159 1990-12-06                             355.7\n",
       " 8160 1990-11-06                             356.4\n",
       " \n",
       " [8038 rows x 2 columns],\n",
       "            Date  Oats Futures Historical Data.csv\n",
       " 35   2022-04-29                            675.50\n",
       " 36   2022-04-28                            693.00\n",
       " 37   2022-04-27                            671.25\n",
       " 38   2022-04-26                            694.00\n",
       " 39   2022-04-25                            715.25\n",
       " ...         ...                               ...\n",
       " 7943 1990-09-10                            107.25\n",
       " 7944 1990-09-07                            108.50\n",
       " 7945 1990-09-06                            111.25\n",
       " 7946 1990-09-05                            108.75\n",
       " 7947 1990-09-04                            107.75\n",
       " \n",
       " [7913 rows x 2 columns],\n",
       "            Date  US Corn Futures Historical Data.csv\n",
       " 35   2022-04-29                               818.25\n",
       " 36   2022-04-28                               816.00\n",
       " 37   2022-04-27                               815.50\n",
       " 38   2022-04-26                               803.25\n",
       " 39   2022-04-25                               800.25\n",
       " ...         ...                                  ...\n",
       " 8063 1990-09-10                               239.50\n",
       " 8064 1990-09-07                               238.75\n",
       " 8065 1990-09-06                               243.00\n",
       " 8066 1990-09-05                               243.25\n",
       " 8067 1990-09-04                               240.75\n",
       " \n",
       " [8033 rows x 2 columns],\n",
       "            Date US Soybeans Futures Historical Data.csv\n",
       " 38   2022-04-29                                1,685.38\n",
       " 39   2022-04-28                                1,684.75\n",
       " 40   2022-04-27                                1,692.75\n",
       " 41   2022-04-26                                1,672.38\n",
       " 42   2022-04-25                                1,675.25\n",
       " ...         ...                                     ...\n",
       " 8181 1990-09-07                                  612.25\n",
       " 8182 1990-09-06                                  617.25\n",
       " 8183 1990-09-05                                  611.75\n",
       " 8184 1990-09-04                                     608\n",
       " 8185 1990-09-03                                     601\n",
       " \n",
       " [8148 rows x 2 columns],\n",
       "            Date  US Wheat Futures Historical Data.csv\n",
       " 9    2022-03-06                               1040.00\n",
       " 10   2022-02-06                               1058.25\n",
       " 11   2022-01-06                               1041.25\n",
       " 31   2022-04-05                               1076.50\n",
       " 32   2022-03-05                               1047.00\n",
       " ...         ...                                   ...\n",
       " 8293 1990-11-07                                305.50\n",
       " 8294 1990-10-07                                305.50\n",
       " 8295 1990-09-07                                306.50\n",
       " 8315 1990-12-06                                335.25\n",
       " 8316 1990-11-06                                332.75\n",
       " \n",
       " [8191 rows x 2 columns],\n",
       "            Date  USD_CAD Historical Data.csv\n",
       " 37   2022-04-29                       1.2856\n",
       " 38   2022-04-28                       1.2805\n",
       " 39   2022-04-27                       1.2819\n",
       " 40   2022-04-26                       1.2825\n",
       " 41   2022-04-25                       1.2733\n",
       " ...         ...                          ...\n",
       " 8284 1990-09-07                       1.1631\n",
       " 8285 1990-09-06                       1.1572\n",
       " 8286 1990-09-05                       1.1524\n",
       " 8287 1990-09-04                       1.1601\n",
       " 8288 1990-09-03                       1.1532\n",
       " \n",
       " [8252 rows x 2 columns],\n",
       "            Date  USD_CNY Historical Data.csv\n",
       " 37   2022-04-29                       6.6080\n",
       " 38   2022-04-28                       6.6243\n",
       " 39   2022-04-27                       6.5595\n",
       " 40   2022-04-26                       6.5552\n",
       " 41   2022-04-25                       6.5585\n",
       " ...         ...                          ...\n",
       " 8231 1990-09-10                       4.7339\n",
       " 8232 1990-09-07                       4.7339\n",
       " 8233 1990-09-06                       4.7339\n",
       " 8234 1990-09-05                       4.7339\n",
       " 8235 1990-09-04                       4.7339\n",
       " \n",
       " [8199 rows x 2 columns],\n",
       "            Date  USD_EUR Historical Data.csv\n",
       " 37   2022-04-29                       0.9483\n",
       " 38   2022-04-28                       0.9522\n",
       " 39   2022-04-27                       0.9471\n",
       " 40   2022-04-26                       0.9399\n",
       " 41   2022-04-25                       0.9333\n",
       " ...         ...                          ...\n",
       " 8222 1990-09-07                       0.7469\n",
       " 8223 1990-09-06                       0.7438\n",
       " 8224 1990-09-05                       0.7470\n",
       " 8225 1990-09-04                       0.7547\n",
       " 8226 1990-09-03                       0.7548\n",
       " \n",
       " [8190 rows x 2 columns],\n",
       "            Date  USD_PHP Historical Data.csv\n",
       " 37   2022-04-29                        52.31\n",
       " 38   2022-04-28                        52.37\n",
       " 39   2022-04-27                        52.15\n",
       " 40   2022-04-26                        52.30\n",
       " 41   2022-04-25                        52.38\n",
       " ...         ...                          ...\n",
       " 7833 1992-05-25                        26.25\n",
       " 7834 1992-05-22                        26.25\n",
       " 7835 1992-05-21                        26.25\n",
       " 7836 1992-05-20                        26.25\n",
       " 7837 1992-05-19                        26.25\n",
       " \n",
       " [7801 rows x 2 columns]]"
      ]
     },
     "execution_count": 43,
     "metadata": {},
     "output_type": "execute_result"
    }
   ],
   "source": [
    "dfs_d"
   ]
  },
  {
   "cell_type": "code",
   "execution_count": 44,
   "id": "51edd9d0",
   "metadata": {},
   "outputs": [],
   "source": [
    "from functools import reduce"
   ]
  },
  {
   "cell_type": "code",
   "execution_count": 45,
   "id": "730bd288",
   "metadata": {},
   "outputs": [],
   "source": [
    "df_merged = reduce(lambda  left,right: pd.merge(left,right,on=['Date'],\n",
    "                                            how='outer'), dfs_d)"
   ]
  },
  {
   "cell_type": "code",
   "execution_count": 52,
   "id": "13b877e1",
   "metadata": {},
   "outputs": [],
   "source": [
    "df_merged['Date'] = pd.to_datetime(df_merged['Date'])\n",
    "df_merged = df_merged.sort_values(by='Date')"
   ]
  },
  {
   "cell_type": "code",
   "execution_count": 55,
   "id": "7a2edca9",
   "metadata": {},
   "outputs": [],
   "source": [
    "df_merged.to_csv('Data\\combined.csv')"
   ]
  },
  {
   "cell_type": "code",
   "execution_count": 53,
   "id": "1e24c995",
   "metadata": {},
   "outputs": [
    {
     "data": {
      "text/plain": [
       "dtype('<M8[ns]')"
      ]
     },
     "execution_count": 53,
     "metadata": {},
     "output_type": "execute_result"
    }
   ],
   "source": [
    "df_merged['Date'].dtype"
   ]
  },
  {
   "cell_type": "code",
   "execution_count": null,
   "id": "cfb1fa96",
   "metadata": {},
   "outputs": [],
   "source": []
  }
 ],
 "metadata": {
  "kernelspec": {
   "display_name": "Python 3",
   "language": "python",
   "name": "python3"
  },
  "language_info": {
   "codemirror_mode": {
    "name": "ipython",
    "version": 3
   },
   "file_extension": ".py",
   "mimetype": "text/x-python",
   "name": "python",
   "nbconvert_exporter": "python",
   "pygments_lexer": "ipython3",
   "version": "3.8.8"
  }
 },
 "nbformat": 4,
 "nbformat_minor": 5
}
