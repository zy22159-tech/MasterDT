{
 "cells": [
  {
   "cell_type": "code",
   "execution_count": 1,
   "id": "4450d6a3",
   "metadata": {},
   "outputs": [],
   "source": [
    "import pandas as pd\n",
    "import tensorflow as tf\n",
    "from dateutil.parser import parse\n",
    "dateparse=lambda dates:parse(dates)\n",
    "\n",
    "from sklearn.model_selection import TimeSeriesSplit\n",
    "from matplotlib import pyplot\n",
    "\n",
    "from sklearn.metrics import mean_squared_error\n",
    "from sklearn.preprocessing import MinMaxScaler\n",
    "from matplotlib import pyplot\n",
    "import numpy as np\n",
    "from statistics import mean\n",
    "\n",
    "import IPython\n",
    "import IPython.display"
   ]
  },
  {
   "cell_type": "code",
   "execution_count": 2,
   "id": "df29ade2",
   "metadata": {},
   "outputs": [],
   "source": [
    "df = pd.read_csv ('Data/weekly_features.csv')\n",
    "df = df.drop (columns = ['Unnamed: 0','USD_PHP Historical Data.csv'])\n",
    "dates = df.year*100+df.week\n",
    "df['Date'] = pd.to_datetime(dates.astype(str) + '0', format='%Y%W%w')\n",
    "df['Date'] = pd.to_datetime(df['Date'])\n",
    "df['Date'] = df['Date'].dt.strftime('%Y-%m-%d')\n",
    "mask = (df['Date'] >'1990-09-30') & (df['Date'] <= '2021-09-30')\n",
    "df= df.loc[mask]\n",
    "df = df.fillna(method='ffill')\n",
    "\n",
    "def convert_to_timestamp(x):\n",
    "    \"\"\"Convert date objects to integers\"\"\"\n",
    "    return time.mktime(x.to_datetime().timetuple())\n",
    "\n",
    "# https://www.aiproblog.com/index.php/2018/08/21/4-common-machine-learning-data-transforms-for-time-series-forecasting/\n",
    "# difference dataset\n",
    "diff_df=df.drop(columns=['Date', 'year', 'week'])\n",
    "diff_df = diff_df.diff()\n",
    "diff_df = diff_df.iloc[1:]\n",
    "#diff_df['year']=df.year[1:]\n",
    "#diff_df['week']=df.year[1:]\n",
    "diff_df['Date']=df.Date[1:]\n",
    "diff_df['Date'] = pd.to_datetime(diff_df['Date'])\n",
    "# convert date to timestamp\n",
    "diff_df['Date'] = diff_df['Date'].map(pd.Timestamp.timestamp)\n",
    "\n",
    "#split the data into training and testing dataset\n",
    "column_indices = {name: i for i, name in enumerate(diff_df.columns)}\n",
    "\n",
    "n = len(diff_df)\n",
    "train_df = diff_df[0:int(n*0.7)]\n",
    "test_df = diff_df[int(n*0.7):]\n",
    "\n",
    "num_features = diff_df.shape[1]\n",
    "\n",
    "#Normalize the data\n",
    "from sklearn.preprocessing import MinMaxScaler\n",
    "#col_list = [i for i in diff_df.columns if i != 'Date']\n",
    "scaler = MinMaxScaler()\n",
    "scaled_train = scaler.fit_transform(train_df)\n",
    "scaled_test = scaler.transform(test_df)"
   ]
  },
  {
   "cell_type": "markdown",
   "id": "fddc5b57",
   "metadata": {},
   "source": [
    "#### raw values generate from df"
   ]
  },
  {
   "cell_type": "code",
   "execution_count": 3,
   "id": "b73d4e1d",
   "metadata": {},
   "outputs": [],
   "source": [
    "raw_values = df.drop(columns=['year','week'])\n",
    "raw_values['Date'] = pd.to_datetime(raw_values['Date'])\n",
    "# convert date to timestamp\n",
    "raw_values['Date'] = raw_values['Date'].map(pd.Timestamp.timestamp)"
   ]
  },
  {
   "cell_type": "markdown",
   "id": "c73ce58e",
   "metadata": {},
   "source": [
    "### sliding window"
   ]
  },
  {
   "cell_type": "code",
   "execution_count": 4,
   "id": "205b7ce0",
   "metadata": {},
   "outputs": [],
   "source": [
    "def multivariate_data(dataset, target, start_index, end_index, history_size,\n",
    "                      target_size, step, single_step=False):\n",
    "    data = []\n",
    "    labels = []\n",
    "\n",
    "    start_index = start_index + history_size\n",
    "    if end_index is None:\n",
    "        end_index = len(dataset) - target_size\n",
    "\n",
    "    for i in range(start_index, end_index):\n",
    "        indices = range(i-history_size, i, step)\n",
    "        data.append(dataset[indices])\n",
    "\n",
    "        if single_step:\n",
    "            labels.append(target[i+target_size])\n",
    "        else:\n",
    "            labels.append(target[i:i+target_size])\n",
    "\n",
    "    return np.array(data), np.array(labels)"
   ]
  },
  {
   "cell_type": "markdown",
   "id": "9ded32a2",
   "metadata": {},
   "source": [
    "### compile and fit function"
   ]
  },
  {
   "cell_type": "code",
   "execution_count": 5,
   "id": "1bc55456",
   "metadata": {},
   "outputs": [],
   "source": [
    "# Function of training models\n",
    "MAX_EPOCHS = 20\n",
    "EVALUATION_INTERVAL = 200\n",
    "batch_size = 32\n",
    "buffer_size = 150\n",
    "def compile_and_fit(model, train, val, patience=2):\n",
    "    early_stopping = tf.keras.callbacks.EarlyStopping(monitor='val_loss',\n",
    "                                                    patience=patience,\n",
    "                                                    mode='min') \n",
    "\n",
    "    model.compile(loss=tf.keras.losses.MeanSquaredError(),\n",
    "                optimizer=tf.keras.optimizers.Adam(),\n",
    "                metrics=[tf.keras.metrics.MeanAbsoluteError()])\n",
    "\n",
    "    history = model.fit(train, batch_size=batch_size, epochs=MAX_EPOCHS,\n",
    "                      validation_data=val,\n",
    "                        steps_per_epoch=EVALUATION_INTERVAL,\n",
    "                      callbacks=[early_stopping],\n",
    "                    validation_steps=10\n",
    "                       )\n",
    "    model.reset_states()\n",
    "    return history"
   ]
  },
  {
   "cell_type": "code",
   "execution_count": 6,
   "id": "5648d152",
   "metadata": {},
   "outputs": [],
   "source": [
    "# make a one-step forecast\n",
    "def forecast_lstm(model, batch_size, X, past_history):\n",
    "    X = X.reshape(1, past_history, num_features)\n",
    "    yhat = model.predict(X)\n",
    "    return yhat"
   ]
  },
  {
   "cell_type": "code",
   "execution_count": 7,
   "id": "74329874",
   "metadata": {},
   "outputs": [],
   "source": [
    "def inverse_difference(history, yhat, position=1):\n",
    "    return yhat + history[position]"
   ]
  },
  {
   "cell_type": "markdown",
   "id": "8d81985b",
   "metadata": {},
   "source": [
    "### set up window"
   ]
  },
  {
   "cell_type": "code",
   "execution_count": 8,
   "id": "dd5bfafc",
   "metadata": {},
   "outputs": [],
   "source": [
    "past_history = 7\n",
    "future_target = 5\n",
    "STEP = 1\n",
    "X_multi, y_multi = multivariate_data(scaled_train, scaled_train, 0,\n",
    "                                                   None, past_history,\n",
    "                                                   future_target, STEP,\n",
    "                                                   single_step=False)\n",
    "\n",
    "X_test_multi, y_test_multi = multivariate_data(scaled_test, scaled_test, 0,\n",
    "                                                   None, past_history,\n",
    "                                                   future_target, STEP,\n",
    "                                                   single_step=False)\n",
    "test_data_multi= tf.data.Dataset.from_tensor_slices((X_test_multi, y_test_multi))\n",
    "test_data_multi = test_data_multi.batch(batch_size).repeat()\n"
   ]
  },
  {
   "cell_type": "code",
   "execution_count": 9,
   "id": "3978b2b0",
   "metadata": {},
   "outputs": [],
   "source": [
    "multi_val_performance = {}\n",
    "multi_test_performance = {}"
   ]
  },
  {
   "cell_type": "markdown",
   "id": "a1281b27",
   "metadata": {},
   "source": [
    "### split data into multiple training and validation set"
   ]
  },
  {
   "cell_type": "code",
   "execution_count": 10,
   "id": "e3b30faf",
   "metadata": {},
   "outputs": [
    {
     "name": "stdout",
     "output_type": "stream",
     "text": [
      "Fold: 0\n",
      "Observations: 381\n",
      "Training Observations: 192\n",
      "Testing Observations: 189\n",
      "\n",
      "\n",
      "Fold: 1\n",
      "Observations: 570\n",
      "Training Observations: 381\n",
      "Testing Observations: 189\n",
      "\n",
      "\n",
      "Fold: 2\n",
      "Observations: 759\n",
      "Training Observations: 570\n",
      "Testing Observations: 189\n",
      "\n",
      "\n",
      "Fold: 3\n",
      "Observations: 948\n",
      "Training Observations: 759\n",
      "Testing Observations: 189\n",
      "\n",
      "\n",
      "Fold: 4\n",
      "Observations: 1137\n",
      "Training Observations: 948\n",
      "Testing Observations: 189\n",
      "\n",
      "\n"
     ]
    }
   ],
   "source": [
    "#https://www.kaggle.com/code/tomwarrens/timeseriessplit-how-to-use-it/notebook \n",
    "splits = TimeSeriesSplit(n_splits=5)\n",
    "for fold, (train_index, test_index) in enumerate(splits.split(X_multi)):\n",
    "    print(\"Fold: {}\".format(fold))\n",
    "    X_train, X_val = X_multi[train_index], X_multi[test_index]\n",
    "    #X_train, X_val = scaled_train[train_index], scaled_train[test_index]\n",
    "    #print(\"TRAIN indices:\", train_index, \"\\n\", \"TEST indices:\", test_index)\n",
    "    print('Observations: %d' % (len(X_train) + len(X_val)))\n",
    "    print('Training Observations: %d' % (len(X_train)))\n",
    "    print('Testing Observations: %d' % (len(X_val)))\n",
    "    print(\"\\n\")\n",
    "    \n",
    "    #y_train, y_test = y[train_index], y[test_index]"
   ]
  },
  {
   "cell_type": "markdown",
   "id": "5492169b",
   "metadata": {},
   "source": [
    "### Baseline"
   ]
  },
  {
   "cell_type": "code",
   "execution_count": 11,
   "id": "22132527",
   "metadata": {},
   "outputs": [],
   "source": [
    "class MultiStepLastBaseline(tf.keras.Model):\n",
    "  def call(self, inputs):\n",
    "    return tf.tile(inputs[:, -1:, :], [1, future_target, 1])\n",
    "\n",
    "baseline = MultiStepLastBaseline()"
   ]
  },
  {
   "cell_type": "code",
   "execution_count": 12,
   "id": "c832b226",
   "metadata": {},
   "outputs": [],
   "source": [
    "evaluation_val_list = {}\n",
    "for fold, (train_index, test_index) in enumerate(splits.split(X_multi)):\n",
    "    print(\"Fold: {}\".format(fold))\n",
    "    x_train_multi, x_val_multi = X_multi[train_index], X_multi[test_index]\n",
    "    y_train_multi, y_val_multi = y_multi[train_index], y_multi[test_index]\n",
    "    print('Observations: %d' % (len(x_train_multi) + len(x_val_multi)))\n",
    "    print('Training Observations: %d' % (len(x_train_multi)))\n",
    "    print('Testing Observations: %d' % (len(x_val_multi)))\n",
    "    train_data_multi = tf.data.Dataset.from_tensor_slices((x_train_multi, y_train_multi))\n",
    "    train_data_multi = train_data_multi.cache().shuffle(buffer_size).batch(batch_size).repeat()\n",
    "\n",
    "    val_data_multi = tf.data.Dataset.from_tensor_slices((x_val_multi, y_val_multi))\n",
    "    val_data_multi = val_data_multi.batch(batch_size).repeat()\n",
    "    \n",
    "    baseline.compile(loss=tf.keras.losses.MeanSquaredError(),\n",
    "                 metrics=[tf.keras.metrics.MeanAbsoluteError()])\n",
    "    print(y_train_multi.shape)\n",
    "    evaluation_val_list [\"Fold {}\".format(fold)] = baseline.evaluate(val_data_multi, steps=50)\n",
    "\n",
    "\n",
    "\n",
    "IPython.display.clear_output()\n",
    "mae = []\n",
    "# calculate the mean mae\n",
    "for v in evaluation_val_list.values():\n",
    "    mae.append(v[1])\n",
    "Mean_mae = mean(mae)\n",
    "multi_val_performance['Baseline'] = Mean_mae\n",
    "multi_test_performance['Baseline'] = baseline.evaluate(test_data_multi, verbose=0, steps=50)"
   ]
  },
  {
   "cell_type": "markdown",
   "id": "c27f1b2e",
   "metadata": {},
   "source": [
    "### LSTM model"
   ]
  },
  {
   "cell_type": "code",
   "execution_count": 13,
   "id": "bfb12bec",
   "metadata": {},
   "outputs": [],
   "source": [
    "multi_lstm_model = tf.keras.Sequential([\n",
    "    # Shape [batch, time, features] => [batch, lstm_units].\n",
    "    # Adding more `lstm_units` just overfits more quickly.\n",
    "    tf.keras.layers.LSTM(64, return_sequences=False),\n",
    "    # Shape => [batch, out_steps*features].\n",
    "    tf.keras.layers.Dense(future_target*num_features, kernel_initializer=tf.initializers.zeros()),\n",
    "    # Shape => [batch, out_steps, features].\n",
    "    tf.keras.layers.Reshape([future_target, num_features])\n",
    "])"
   ]
  },
  {
   "cell_type": "code",
   "execution_count": 14,
   "id": "4af5c32d",
   "metadata": {},
   "outputs": [],
   "source": [
    "evaluation_val_list = {}\n",
    "for fold, (train_index, test_index) in enumerate(splits.split(X_multi)):\n",
    "    print(\"Fold: {}\".format(fold))\n",
    "    x_train_multi, x_val_multi = X_multi[train_index], X_multi[test_index]\n",
    "    y_train_multi, y_val_multi = y_multi[train_index], y_multi[test_index]\n",
    "    print('Observations: %d' % (len(x_train_multi) + len(x_val_multi)))\n",
    "    print('Training Observations: %d' % (len(x_train_multi)))\n",
    "    print('Testing Observations: %d' % (len(x_val_multi)))\n",
    "    train_data_multi = tf.data.Dataset.from_tensor_slices((x_train_multi, y_train_multi))\n",
    "    train_data_multi = train_data_multi.cache().shuffle(buffer_size).batch(batch_size).repeat()\n",
    "\n",
    "    val_data_multi = tf.data.Dataset.from_tensor_slices((x_val_multi, y_val_multi))\n",
    "    val_data_multi = val_data_multi.batch(batch_size).repeat()\n",
    "    \n",
    "    history = compile_and_fit(multi_lstm_model, train_data_multi, val_data_multi)\n",
    "\n",
    "    evaluation_val_list [\"Fold {}\".format(fold)] = multi_lstm_model.evaluate(val_data_multi, steps=50)\n",
    "\n",
    "\n",
    "\n",
    "IPython.display.clear_output()\n",
    "mae = []\n",
    "# calculate the mean mae\n",
    "for v in evaluation_val_list.values():\n",
    "    mae.append(v[1])\n",
    "Mean_mae = mean(mae)\n",
    "multi_val_performance['LSTM'] = Mean_mae\n",
    "multi_test_performance['LSTM'] = multi_lstm_model.evaluate(test_data_multi, verbose=0, steps=50)"
   ]
  },
  {
   "cell_type": "markdown",
   "id": "5da92cd6",
   "metadata": {},
   "source": [
    "### CNN"
   ]
  },
  {
   "cell_type": "code",
   "execution_count": 15,
   "id": "29b20ecd",
   "metadata": {},
   "outputs": [],
   "source": [
    "CONV_WIDTH = 3\n",
    "multi_conv_model = tf.keras.Sequential([\n",
    "    # Shape [batch, time, features] => [batch, CONV_WIDTH, features]\n",
    "    tf.keras.layers.Lambda(lambda x: x[:, -CONV_WIDTH:, :]),\n",
    "    # Shape => [batch, 1, dense_units]\n",
    "    #tf.keras.layers.Dense(64, activation='relu'),\n",
    "    # Shape => [batch, 1, conv_units]\n",
    "    tf.keras.layers.Conv1D(256, activation='relu', kernel_size=(CONV_WIDTH)),\n",
    "    # Shape => [batch, 1,  out_steps*features]\n",
    "    tf.keras.layers.Dense(future_target*num_features,kernel_initializer=tf.initializers.zeros()),\n",
    "    # Shape => [batch, out_steps, features]\n",
    "    tf.keras.layers.Reshape([future_target, num_features])\n",
    "])\n"
   ]
  },
  {
   "cell_type": "code",
   "execution_count": 16,
   "id": "fdf9659e",
   "metadata": {},
   "outputs": [],
   "source": [
    "evaluation_val_list = {}\n",
    "for fold, (train_index, test_index) in enumerate(splits.split(X_multi)):\n",
    "    print(\"Fold: {}\".format(fold))\n",
    "    x_train_multi, x_val_multi = X_multi[train_index], X_multi[test_index]\n",
    "    y_train_multi, y_val_multi = y_multi[train_index], y_multi[test_index]\n",
    "    print('Observations: %d' % (len(x_train_multi) + len(x_val_multi)))\n",
    "    print('Training Observations: %d' % (len(x_train_multi)))\n",
    "    print('Testing Observations: %d' % (len(x_val_multi)))\n",
    "    train_data_multi = tf.data.Dataset.from_tensor_slices((x_train_multi, y_train_multi))\n",
    "    train_data_multi = train_data_multi.cache().shuffle(buffer_size).batch(batch_size).repeat()\n",
    "\n",
    "    val_data_multi = tf.data.Dataset.from_tensor_slices((x_val_multi, y_val_multi))\n",
    "    val_data_multi = val_data_multi.batch(batch_size).repeat()\n",
    "    \n",
    "    history = compile_and_fit(multi_conv_model, train_data_multi, val_data_multi)\n",
    "\n",
    "    evaluation_val_list [\"Fold {}\".format(fold)] = multi_conv_model.evaluate(val_data_multi, steps=50)\n",
    "\n",
    "\n",
    "\n",
    "IPython.display.clear_output()\n",
    "mae = []\n",
    "# calculate the mean mae\n",
    "for v in evaluation_val_list.values():\n",
    "    mae.append(v[1])\n",
    "Mean_mae = mean(mae)\n",
    "multi_val_performance['CNN'] = Mean_mae\n",
    "multi_test_performance['CNN'] = multi_conv_model.evaluate(test_data_multi, verbose=0, steps=50)"
   ]
  },
  {
   "cell_type": "markdown",
   "id": "24c7b274",
   "metadata": {},
   "source": [
    "### CNN-LSTM"
   ]
  },
  {
   "cell_type": "code",
   "execution_count": 40,
   "id": "65710c53",
   "metadata": {},
   "outputs": [],
   "source": [
    "multi_cnn_lstm = tf.keras.Sequential([\n",
    "    # Shape [batch, time, features] => [batch, lstm_units].\n",
    "    # Adding more `lstm_units` just overfits more quickly.\n",
    "    tf.keras.layers.Conv1D(filters=512, kernel_size=3, activation='relu', input_shape=(past_history, num_features)),\n",
    "    #tf.keras.layers.Conv1D(filters=256, kernel_size=3, activation='relu'),\n",
    "    tf.keras.layers.MaxPooling1D(pool_size=5),\n",
    "    tf.keras.layers.Flatten(),\n",
    "    tf.keras.layers.RepeatVector(future_target),\n",
    "    tf.keras.layers.LSTM(200, return_sequences=True),\n",
    "    #tf.compat.v1.keras.layers.CuDNNLSTM(200,return_sequences=True),\n",
    "    tf.keras.layers.TimeDistributed(tf.keras.layers.Dense(100, activation='relu')),\n",
    "    tf.keras.layers.TimeDistributed(tf.keras.layers.Dense(num_features))\n",
    "])"
   ]
  },
  {
   "cell_type": "code",
   "execution_count": 41,
   "id": "ab2c42ae",
   "metadata": {},
   "outputs": [
    {
     "name": "stdout",
     "output_type": "stream",
     "text": [
      "Model: \"sequential_11\"\n",
      "_________________________________________________________________\n",
      " Layer (type)                Output Shape              Param #   \n",
      "=================================================================\n",
      " conv1d_11 (Conv1D)          (None, 5, 512)            26624     \n",
      "                                                                 \n",
      " max_pooling1d_9 (MaxPooling  (None, 1, 512)           0         \n",
      " 1D)                                                             \n",
      "                                                                 \n",
      " flatten_9 (Flatten)         (None, 512)               0         \n",
      "                                                                 \n",
      " repeat_vector_9 (RepeatVect  (None, 5, 512)           0         \n",
      " or)                                                             \n",
      "                                                                 \n",
      " lstm_10 (LSTM)              (None, 5, 200)            570400    \n",
      "                                                                 \n",
      " time_distributed_18 (TimeDi  (None, 5, 100)           20100     \n",
      " stributed)                                                      \n",
      "                                                                 \n",
      " time_distributed_19 (TimeDi  (None, 5, 17)            1717      \n",
      " stributed)                                                      \n",
      "                                                                 \n",
      "=================================================================\n",
      "Total params: 618,841\n",
      "Trainable params: 618,841\n",
      "Non-trainable params: 0\n",
      "_________________________________________________________________\n"
     ]
    }
   ],
   "source": [
    "multi_cnn_lstm.summary()"
   ]
  },
  {
   "cell_type": "code",
   "execution_count": 42,
   "id": "c68317db",
   "metadata": {},
   "outputs": [],
   "source": [
    "evaluation_val_list = {}\n",
    "for fold, (train_index, test_index) in enumerate(splits.split(X_multi)):\n",
    "    print(\"Fold: {}\".format(fold))\n",
    "    x_train_multi, x_val_multi = X_multi[train_index], X_multi[test_index]\n",
    "    y_train_multi, y_val_multi = y_multi[train_index], y_multi[test_index]\n",
    "    print('Observations: %d' % (len(x_train_multi) + len(x_val_multi)))\n",
    "    print('Training Observations: %d' % (len(x_train_multi)))\n",
    "    print('Testing Observations: %d' % (len(x_val_multi)))\n",
    "    train_data_multi = tf.data.Dataset.from_tensor_slices((x_train_multi, y_train_multi))\n",
    "    train_data_multi = train_data_multi.cache().shuffle(buffer_size).batch(batch_size).repeat()\n",
    "\n",
    "    val_data_multi = tf.data.Dataset.from_tensor_slices((x_val_multi, y_val_multi))\n",
    "    val_data_multi = val_data_multi.batch(batch_size).repeat()\n",
    "    \n",
    "    history = compile_and_fit(multi_cnn_lstm, train_data_multi, val_data_multi)\n",
    "\n",
    "    evaluation_val_list [\"Fold {}\".format(fold)] = multi_cnn_lstm.evaluate(val_data_multi, steps=50)\n",
    "\n",
    "\n",
    "\n",
    "IPython.display.clear_output()\n",
    "mae = []\n",
    "# calculate the mean mae\n",
    "for v in evaluation_val_list.values():\n",
    "    mae.append(v[1])\n",
    "Mean_mae = mean(mae)\n",
    "multi_val_performance['CNN-LSTM'] = Mean_mae\n",
    "multi_test_performance['CNN-LSTM'] = multi_cnn_lstm.evaluate(test_data_multi, verbose=0, steps=50)"
   ]
  },
  {
   "cell_type": "markdown",
   "id": "02f38ba8",
   "metadata": {},
   "source": [
    "### plot MAE"
   ]
  },
  {
   "cell_type": "code",
   "execution_count": 43,
   "id": "d11e972e",
   "metadata": {},
   "outputs": [
    {
     "data": {
      "image/png": "[encoded data removed]",
      "text/plain": [
       "<Figure size 432x288 with 1 Axes>"
      ]
     },
     "metadata": {
      "needs_background": "light"
     },
     "output_type": "display_data"
    }
   ],
   "source": [
    "x = np.arange(len(multi_test_performance))\n",
    "width = 0.3\n",
    "\n",
    "metric_name = 'mean_absolute_error'\n",
    "metric_index = baseline.metrics_names.index('mean_absolute_error')\n",
    "val_mae = [v for v in multi_val_performance.values()]\n",
    "test_mae = [v[metric_index] for v in multi_test_performance.values()]\n",
    "\n",
    "pyplot.ylabel('mean_absolute_error')\n",
    "pyplot.bar(x - 0.17, val_mae, width, label='Validation')\n",
    "pyplot.bar(x + 0.17, test_mae, width, label='Test')\n",
    "pyplot.xticks(ticks=x, labels=multi_test_performance.keys(),\n",
    "           rotation=45)\n",
    "_ = pyplot.legend()"
   ]
  },
  {
   "cell_type": "code",
   "execution_count": null,
   "id": "2d44df9b",
   "metadata": {},
   "outputs": [],
   "source": []
  }
 ],
 "metadata": {
  "kernelspec": {
   "display_name": "Python 3 (ipykernel)",
   "language": "python",
   "name": "python3"
  },
  "language_info": {
   "codemirror_mode": {
    "name": "ipython",
    "version": 3
   },
   "file_extension": ".py",
   "mimetype": "text/x-python",
   "name": "python",
   "nbconvert_exporter": "python",
   "pygments_lexer": "ipython3",
   "version": "3.9.12"
  }
 },
 "nbformat": 4,
 "nbformat_minor": 5
}
